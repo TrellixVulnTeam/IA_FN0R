{
 "cells": [
  {
   "cell_type": "markdown",
   "metadata": {},
   "source": [
    "# IA - Le compte est bon\n",
    "First have a look at the instructions of the lab:\n",
    "http://www.ai-junkie.com/ga/intro/gat3.html"
   ]
  },
  {
   "cell_type": "markdown",
   "metadata": {},
   "source": [
    "## Getting started\n",
    "To have the following code working you will need to install the DEAP framework (https://github.com/deap/deap).\n",
    "We encourage you to use **_pip_**:\n",
    "\n",
    "`pip install deap`\n",
    "\n",
    "If you use conda you can try:\n",
    "`conda install -c conda-forge deap`\n",
    "\n",
    "_Note: Linux package managers like apt-get, yum, etc. usually provide an outdated version._"
   ]
  },
  {
   "cell_type": "code",
   "execution_count": null,
   "metadata": {},
   "outputs": [],
   "source": [
    "from deap import base\n",
    "from deap import creator\n",
    "from deap import tools\n",
    "from deap import algorithms\n",
    "import operator\n",
    "from enum import Enum\n",
    "from collections import namedtuple\n",
    "import random\n",
    "import time"
   ]
  },
  {
   "cell_type": "markdown",
   "metadata": {},
   "source": [
    "## Private part\n",
    "_=== No need to change something here. ===_  \n",
    "\n",
    "You can find here constants and private functions useful for the lab. "
   ]
  },
  {
   "cell_type": "markdown",
   "metadata": {},
   "source": [
    "Remember, four bits are required to represent the range of characters used:\n",
    "\n",
    "0:&nbsp; &nbsp; &nbsp;0000  \n",
    "1:&nbsp; &nbsp; &nbsp;0001  \n",
    "2:&nbsp; &nbsp; &nbsp;0010  \n",
    "3:&nbsp; &nbsp; &nbsp;0011  \n",
    "4:&nbsp; &nbsp; &nbsp;0100  \n",
    "5:&nbsp; &nbsp; &nbsp;0101  \n",
    "6:&nbsp; &nbsp; &nbsp;0110  \n",
    "7:&nbsp; &nbsp; &nbsp;0111  \n",
    "8:&nbsp; &nbsp; &nbsp;1000  \n",
    "9:&nbsp; &nbsp; &nbsp;1001  \n",
    "+:&nbsp; &nbsp; &nbsp;1010  \n",
    "-:&nbsp; &nbsp; &nbsp;1011  \n",
    "*:&nbsp; &nbsp; &nbsp;1100  \n",
    "/:&nbsp; &nbsp; &nbsp;1101  "
   ]
  },
  {
   "cell_type": "code",
   "execution_count": null,
   "metadata": {},
   "outputs": [],
   "source": [
    "# Each operand or operator is described by 4 bits\n",
    "CODE_LENGTH = 4\n",
    "\n",
    "# In this example, we fix the number of operands to 5\n",
    "NB_OPERANDS = 5\n",
    "\n",
    "# The maximum number of operators is NB_OPERANDS - 1\n",
    "# ex. 5 + 3 / 2 \n",
    "# three operands: 5, 3, 2\n",
    "# two operators: +, /\n",
    "NB_OPERATORS = NB_OPERANDS - 1\n",
    "\n",
    "\n",
    "CHROMOSOME_LENGTH = NB_OPERANDS * CODE_LENGTH + NB_OPERATORS * CODE_LENGTH\n",
    "\n",
    "# We have three types of code: operands, operators and undefined symbols\n",
    "class CodeType(Enum):\n",
    "    OPERAND = 1\n",
    "    OPERATOR = 2\n",
    "    NOTHING = 3\n",
    "\n",
    "# namedtuple(\"typename, field_names[...]\") returns a new tuple subclass named 'typename'. \n",
    "# The new subclass is used to create tuple-like objects that have fields accessible \n",
    "# by attribute lookup as well as being indexable and iterable\n",
    "Code = namedtuple(\"Code\", [\"code_type\", \"apply\", \"str\"])\n",
    "\n",
    "OPERATORS = {\n",
    "    10: (operator.add, \"+\"),  # Standard operators as functions, see https://docs.python.org/3/library/operator.html\n",
    "    11: (operator.sub, \"-\"),\n",
    "    12: (operator.mul, \"*\"),\n",
    "    13: (operator.truediv, \"/\")\n",
    "}\n",
    "\n",
    "def _parse_code(code):\n",
    "    \"\"\" Convert bit string to a Code namedtuple \"\"\"\n",
    "    int_value = int(code, 2)\n",
    "    if int_value >= 0 and int_value < 10:\n",
    "        return Code(CodeType.OPERAND, lambda: int_value, str(int_value))\n",
    "    elif int_value >= 10 and int_value <= 13:\n",
    "        return Code(CodeType.OPERATOR, OPERATORS[int_value][0], OPERATORS[int_value][1])\n",
    "    else:\n",
    "        return Code(CodeType.NOTHING, None, \"_\")\n",
    "    \n",
    "def _decode(individual):\n",
    "    \"\"\" Parse each code of the full chromosome (aka individual) \"\"\"\n",
    "    chromosome_str = \"\".join([str(gene) for gene in individual])\n",
    "    codes = [_parse_code(chromosome_str[i: i + CODE_LENGTH]) for i in range(0, len(chromosome_str), CODE_LENGTH)]\n",
    "    return codes"
   ]
  },
  {
   "cell_type": "markdown",
   "metadata": {},
   "source": [
    "## Public part\n",
    "_=== No need to change something here. ===_  \n",
    "\n",
    "You find here functions that may be interesting for you. "
   ]
  },
  {
   "cell_type": "code",
   "execution_count": null,
   "metadata": {},
   "outputs": [],
   "source": [
    "def display_chromosome(individual):\n",
    "    \"\"\" Convert chromosome to a readable format (e.g. 3 + 5 / 6) \"\"\"\n",
    "    return \" \".join(code.str for code in _decode(individual))\n",
    "\n",
    "def compute_chromosome(individual):\n",
    "    \"\"\" Compute operations described by a the chromosome \"\"\"\n",
    "    codes = _decode(individual)\n",
    "    first_operand = None\n",
    "    operation = None\n",
    "    snd_operand = None\n",
    "    result = 0\n",
    "    for code in codes:\n",
    "        if not first_operand:\n",
    "            if code.code_type == CodeType.OPERAND:\n",
    "                first_operand = code.apply()\n",
    "        elif not operation:\n",
    "            if code.code_type == CodeType.OPERATOR:\n",
    "                operation = code.apply\n",
    "        elif not snd_operand:\n",
    "            if code.code_type == CodeType.OPERAND:\n",
    "                snd_operand = code.apply()\n",
    "                try:\n",
    "                    result = operation(first_operand, snd_operand)\n",
    "                except ZeroDivisionError:\n",
    "                    pass\n",
    "                first_operand = result\n",
    "                operation = None\n",
    "                snd_operand = None\n",
    "    return result"
   ]
  },
  {
   "cell_type": "markdown",
   "metadata": {},
   "source": [
    "## Deap framework\n",
    "_=== No need to change something here. ===_  \n",
    "\n",
    "You find here a preparation of tools necessary for our algorithm. "
   ]
  },
  {
   "cell_type": "code",
   "execution_count": null,
   "metadata": {},
   "outputs": [],
   "source": [
    "toolbox = base.Toolbox()"
   ]
  },
  {
   "cell_type": "markdown",
   "metadata": {},
   "source": [
    "The **fitness** will measure the proximity between the result of the chromosome and a target value.\n",
    "The **lower the proximity is - the better is our chromosome** so we are in a minimization problem. \n",
    "\n",
    "/!\\ Be aware that `values` and `weights` must be tuples."
   ]
  },
  {
   "cell_type": "markdown",
   "metadata": {},
   "source": [
    "First we create the code of our fitness function; then we add it into our toolbox. "
   ]
  },
  {
   "cell_type": "code",
   "execution_count": null,
   "metadata": {},
   "outputs": [],
   "source": [
    "def fitness(individual, target):\n",
    "    return (abs(compute_chromosome(individual) - target),) # Tuple !\n",
    "\n",
    "toolbox.register(\"fitness\", fitness)"
   ]
  },
  {
   "cell_type": "markdown",
   "metadata": {},
   "source": [
    "The following line creates, in the `creator`, a ready to use single objective minimizing fitness named _FitnessMin_.\n",
    "\n",
    "`base.Fitness`: if values are provided as a tuple, the fitness is initalized using those values, otherwise it is empty (or invalid).  \n",
    "`weights` is used to define a maximization/minimization by setting 1.0 or -1.0."
   ]
  },
  {
   "cell_type": "code",
   "execution_count": null,
   "metadata": {},
   "outputs": [],
   "source": [
    "creator.create(\"FitnessMin\", base.Fitness, weights=(-1.0,))\n"
   ]
  },
  {
   "cell_type": "markdown",
   "metadata": {},
   "source": [
    "`deap.creator.create(name, base[, attribute[, ...]])`  \n",
    "The `create()` function takes at least two arguments, a name for the newly created class and a base class. Any subsequent argument becomes an attribute of the class. "
   ]
  },
  {
   "cell_type": "markdown",
   "metadata": {},
   "source": [
    "A `deep.creator.Individual` will be list of gene with an attribute 'fitness' of type `deep.creator.FitnessMin` just created."
   ]
  },
  {
   "cell_type": "code",
   "execution_count": null,
   "metadata": {},
   "outputs": [],
   "source": [
    "creator.create(\"Individual\", list, fitness=creator.FitnessMin) "
   ]
  },
  {
   "cell_type": "markdown",
   "metadata": {},
   "source": [
    "### TODO 1:\n",
    "Look at the documentation of the DEAP framework and register into the toolbox the following tools:\n",
    "- **Crossover** between two individuals will be a simple one point crossover.\n",
    "- **Mutation** of a individual will flip the bit in the gene with a probability of 10%.\n",
    "- **Selection** of *k* individuals will be done using *k* spins of a **roulette**.\n",
    "\n",
    "Then, complete the following cell:"
   ]
  },
  {
   "cell_type": "code",
   "execution_count": null,
   "metadata": {},
   "outputs": [],
   "source": [
    "toolbox.register(\"mate\", XXX)\n",
    "toolbox.register(\"mutate\", XXX)\n",
    "toolbox.register(\"select\", XXX)"
   ]
  },
  {
   "cell_type": "markdown",
   "metadata": {},
   "source": [
    "Finally we provide initiations operations. A **population** will be a list of `deep.creator.Individual`. Each gene will be set randomly to 0 or 1."
   ]
  },
  {
   "cell_type": "code",
   "execution_count": null,
   "metadata": {},
   "outputs": [],
   "source": [
    "toolbox.register(\"init_gene\", random.randint, 0, 1)\n",
    "toolbox.register(\"init_individual\", tools.initRepeat, creator.Individual, toolbox.init_gene, CHROMOSOME_LENGTH)\n",
    "toolbox.register(\"init_population\", tools.initRepeat, list, toolbox.init_individual)"
   ]
  },
  {
   "cell_type": "markdown",
   "metadata": {},
   "source": [
    "## TODO 2: Solve \"Le compte est bon\"\n",
    "It'y sour turn! Using Deap and previous tools design a loop to obtain **TARGET** value in a maximum time of **MAX_TIME**.\n",
    "- Break the loop if an individual is optimal before **MAX_TIME** (i.e. his fitness = 0).\n",
    "- Display the best chromosome\n",
    "- Display the total time\n"
   ]
  },
  {
   "cell_type": "code",
   "execution_count": null,
   "metadata": {},
   "outputs": [],
   "source": [
    "TARGET = 126\n",
    "MAX_TIME = 5  # seconds"
   ]
  },
  {
   "cell_type": "markdown",
   "metadata": {},
   "source": [
    "Some hints:\n",
    "- Take a look at Deap documentation https://deap.readthedocs.io/en/master/index.html\n",
    "- Create a small population `init_population(n)` and use `compute_chromosome(individual)`, `display_chromosome(individual)` and `individual.fitness` to clearly understand what is an Individual.\n",
    "\n",
    "Good luck!"
   ]
  },
  {
   "cell_type": "markdown",
   "metadata": {},
   "source": [
    "## TODO 3: Advanced - Find the best Hyperparameters (optional)\n",
    "- Which are the **best**:\n",
    "    - population size  \n",
    "    - frequence of mutation\n",
    "    - frequence of crossover\n",
    "    - ...\n",
    "- Implement the elitism, the best N individuals will surely survive (N = 2) and without undergoing mutation"
   ]
  },
  {
   "cell_type": "code",
   "execution_count": null,
   "metadata": {},
   "outputs": [],
   "source": []
  }
 ],
 "metadata": {
  "kernelspec": {
   "display_name": "Python 3",
   "language": "python",
   "name": "python3"
  },
  "language_info": {
   "codemirror_mode": {
    "name": "ipython",
    "version": 3
   },
   "file_extension": ".py",
   "mimetype": "text/x-python",
   "name": "python",
   "nbconvert_exporter": "python",
   "pygments_lexer": "ipython3",
   "version": "3.6.8"
  },
  "pycharm": {
   "stem_cell": {
    "cell_type": "raw",
    "metadata": {
     "collapsed": false
    },
    "source": []
   }
  }
 },
 "nbformat": 4,
 "nbformat_minor": 4
}
